{
  "nbformat": 4,
  "nbformat_minor": 0,
  "metadata": {
    "accelerator": "GPU",
    "colab": {
      "name": "PR_hw5.ipynb",
      "provenance": []
    },
    "kernelspec": {
      "display_name": "Python 3",
      "name": "python3"
    },
    "language_info": {
      "name": "python"
    }
  },
  "cells": [
    {
      "cell_type": "code",
      "metadata": {
        "id": "eREbyYf5fNC3"
      },
      "source": [
        "import numpy as np\n",
        "import matplotlib.pyplot as plt\n",
        "import torch\n",
        "import torch.nn as nn\n",
        "import torch.nn.functional as F\n",
        "import torch.optim as optim\n",
        "import torchvision\n",
        "from sklearn.metrics import accuracy_score\n"
      ],
      "execution_count": null,
      "outputs": []
    },
    {
      "cell_type": "code",
      "metadata": {
        "colab": {
          "base_uri": "https://localhost:8080/"
        },
        "id": "noDjfnUjfXXm",
        "outputId": "5d3c4377-05e3-4f6f-8970-9f1a7e411f6a"
      },
      "source": [
        "from google.colab import drive\n",
        "drive.mount('/content/drive')\n"
      ],
      "execution_count": null,
      "outputs": [
        {
          "output_type": "stream",
          "text": [
            "Drive already mounted at /content/drive; to attempt to forcibly remount, call drive.mount(\"/content/drive\", force_remount=True).\n"
          ],
          "name": "stdout"
        }
      ]
    },
    {
      "cell_type": "code",
      "metadata": {
        "colab": {
          "base_uri": "https://localhost:8080/"
        },
        "id": "NosfU0cyfYus",
        "outputId": "746934f0-a306-4b61-c491-3841c5e4224d"
      },
      "source": [
        "batch_size = 128\n",
        "\n",
        "DATA_DIR = '/content/drive/MyDrive/PR_hw5/data'\n",
        "CKPT_DIR = '/content/drive/MyDrive/PR_hw5/checkpoints'\n",
        "\n",
        "device = torch.device('cuda:0' if torch.cuda.is_available() else 'cpu')\n",
        "print(device)\n"
      ],
      "execution_count": null,
      "outputs": [
        {
          "output_type": "stream",
          "text": [
            "cuda:0\n"
          ],
          "name": "stdout"
        }
      ]
    },
    {
      "cell_type": "code",
      "metadata": {
        "id": "DIbwdy3efbBs"
      },
      "source": [
        "# Datasets path\n",
        "x_train_data_path = f'{DATA_DIR}/x_train.npy'\n",
        "y_train_data_path = f'{DATA_DIR}/y_train.npy'\n",
        "x_test_data_path = f'{DATA_DIR}/x_test.npy'\n",
        "y_test_data_path = f'{DATA_DIR}/y_test.npy'\n"
      ],
      "execution_count": null,
      "outputs": []
    },
    {
      "cell_type": "code",
      "metadata": {
        "id": "5Edg9CXFfcdq"
      },
      "source": [
        "class_index = {\n",
        "    'airplane': 0,\n",
        "    'automobile': 1,\n",
        "    'bird': 2,\n",
        "    'cat': 3,\n",
        "    'deer': 4,\n",
        "    'dog': 5,\n",
        "    'frog': 6,\n",
        "    'horse': 7,\n",
        "    'ship': 8,\n",
        "    'truck': 9\n",
        "}\n"
      ],
      "execution_count": null,
      "outputs": []
    },
    {
      "cell_type": "markdown",
      "metadata": {
        "id": "30STGb7-4l3t"
      },
      "source": [
        "# ResNet and Residual Block"
      ]
    },
    {
      "cell_type": "code",
      "metadata": {
        "id": "atvuZtsJfd9u"
      },
      "source": [
        "class ResidualBlock(nn.Module):\n",
        "    expansion = 4\n",
        "\n",
        "    def __init__(self, in_channels, width, stride=1, downsample=None):\n",
        "        super().__init__()\n",
        "        self.conv1 = nn.Conv2d(in_channels, width, kernel_size=1)\n",
        "        self.bn1 = nn.BatchNorm2d(width)\n",
        "        self.conv2 = nn.Conv2d(width, width, kernel_size=3, stride=stride,\n",
        "                               padding=1)\n",
        "        self.bn2 = nn.BatchNorm2d(width)\n",
        "        self.conv3 = nn.Conv2d(width, width * self.expansion, kernel_size=1)\n",
        "        self.bn3 = nn.BatchNorm2d(width * self.expansion)\n",
        "        self.relu = nn.ReLU(inplace=True)\n",
        "        self.downsample = downsample\n",
        "\n",
        "    def forward(self, x):\n",
        "        identity = x\n",
        "\n",
        "        out = self.conv1(x)\n",
        "        out = self.bn1(out)\n",
        "        out = self.relu(out)\n",
        "\n",
        "        out = self.conv2(out)\n",
        "        out = self.bn2(out)\n",
        "        out = self.relu(out)\n",
        "\n",
        "        out = self.conv3(out)\n",
        "        out = self.bn3(out)\n",
        "\n",
        "        if self.downsample is not None:\n",
        "            identity = self.downsample(x)\n",
        "\n",
        "        out += identity\n",
        "        out = self.relu(out)\n",
        "\n",
        "        return out\n"
      ],
      "execution_count": null,
      "outputs": []
    },
    {
      "cell_type": "code",
      "metadata": {
        "id": "spndg43bff5s"
      },
      "source": [
        "class ResNet(nn.Module):\n",
        "    def __init__(self, layer_cnts, class_cnt):\n",
        "        super().__init__()\n",
        "        self.block_in_channels = 64\n",
        "        self.conv1 = nn.Conv2d(3, self.block_in_channels, kernel_size=7,\n",
        "                               stride=2, padding=3)\n",
        "        self.bn1 = nn.BatchNorm2d(self.block_in_channels)\n",
        "        self.relu = nn.ReLU(inplace=True)\n",
        "        self.maxpool = nn.MaxPool2d(kernel_size=3, stride=2, padding=1)\n",
        "        self.layer1 = self._make_layer(64, layer_cnts[0])\n",
        "        self.layer2 = self._make_layer(128, layer_cnts[1], stride=2)\n",
        "        self.layer3 = self._make_layer(256, layer_cnts[2], stride=2)\n",
        "        self.layer4 = self._make_layer(512, layer_cnts[3], stride=2)\n",
        "        self.avgpool = nn.AdaptiveAvgPool2d((1, 1))\n",
        "        self.fc = nn.Linear(512 * ResidualBlock.expansion, class_cnt)\n",
        "        self.activation = nn.Softmax(dim=1)\n",
        "\n",
        "    def _make_layer(self, channels, block_cnt, stride=1):\n",
        "        # This function creates block_cnt of Residual Blocks equentially\n",
        "\n",
        "        # Create down sample layer\n",
        "        # Down sample is necessary if size of the blocks are not the same\n",
        "        downsample = None\n",
        "        if (stride != 1 or\n",
        "                self.block_in_channels != channels * ResidualBlock.expansion):\n",
        "            downsample = nn.Sequential(\n",
        "                nn.Conv2d(self.block_in_channels,\n",
        "                          channels * ResidualBlock.expansion,\n",
        "                          kernel_size=1, stride=stride),\n",
        "                nn.BatchNorm2d(channels * ResidualBlock.expansion)\n",
        "            )\n",
        "\n",
        "        # Create the first Residual Block with down sample layers\n",
        "        layers = []\n",
        "        layers.append(\n",
        "            ResidualBlock(in_channels=self.block_in_channels, width=channels,\n",
        "                          stride=stride, downsample=downsample)\n",
        "        )\n",
        "\n",
        "        # Create the rest Residual Blocks\n",
        "        self.block_in_channels = channels * ResidualBlock.expansion\n",
        "        for _ in range(1, block_cnt):\n",
        "            layers.append(\n",
        "                ResidualBlock(in_channels=self.block_in_channels,\n",
        "                              width=channels)\n",
        "            )\n",
        "\n",
        "        return nn.Sequential(*layers)\n",
        "\n",
        "    def forward(self, x):\n",
        "        x = self.conv1(x)\n",
        "        x = self.bn1(x)\n",
        "        x = self.relu(x)\n",
        "        x = self.maxpool(x)\n",
        "\n",
        "        x = self.layer1(x)\n",
        "        x = self.layer2(x)\n",
        "        x = self.layer3(x)\n",
        "        x = self.layer4(x)\n",
        "\n",
        "        x = self.avgpool(x)\n",
        "        x = torch.flatten(x, 1)\n",
        "        x = self.fc(x)\n",
        "        x = self.activation(x)\n",
        "\n",
        "        return x\n",
        "\n",
        "    def predict(self, x_test):\n",
        "        # This function feeds original test images and flipped\n",
        "        # test images to the network and returns predictions according to\n",
        "        # the max network outputs\n",
        "        with torch.no_grad():\n",
        "            outputs = self(x_test)\n",
        "\n",
        "            x_test_flipped = torch.flip(x_test, [3])\n",
        "            outputs_flipped = net(x_test_flipped)\n",
        "\n",
        "            outputs += outputs_flipped\n",
        "\n",
        "            _, predictions = torch.max(outputs, 1)\n",
        "\n",
        "            return predictions.cpu().numpy()\n"
      ],
      "execution_count": null,
      "outputs": []
    },
    {
      "cell_type": "code",
      "metadata": {
        "id": "xYcXbYGnfhQA"
      },
      "source": [
        "def imshow(img):\n",
        "    # This function shows the images\n",
        "    img = img / 2 + 0.5\n",
        "    npimg = img.numpy()\n",
        "    plt.imshow(np.transpose(npimg, (1, 2, 0)))\n",
        "    plt.show()\n",
        "\n",
        "\n",
        "def get_class_name(y):\n",
        "    # This function returns the class name by give index\n",
        "    for key, value in class_index.items():\n",
        "        if y == value:\n",
        "            return key\n",
        "\n",
        "\n",
        "def reshape(t):\n",
        "    # This function reshape the input tensor of shape (i, m, n, c) to\n",
        "    # the shape of (i, c, m, n)\n",
        "    return torch.swapaxes(torch.swapaxes(t, 2, 3), 1, 2)\n"
      ],
      "execution_count": null,
      "outputs": []
    },
    {
      "cell_type": "markdown",
      "metadata": {
        "id": "MP101qACwCGd"
      },
      "source": [
        "# Load data"
      ]
    },
    {
      "cell_type": "code",
      "metadata": {
        "id": "PFv6uewUfik4"
      },
      "source": [
        "# Read the datasets\n",
        "x_train = np.load(x_train_data_path)\n",
        "y_train = np.load(y_train_data_path)\n",
        "\n",
        "x_test = np.load(x_test_data_path)\n",
        "y_test = np.load(y_test_data_path)\n"
      ],
      "execution_count": null,
      "outputs": []
    },
    {
      "cell_type": "markdown",
      "metadata": {
        "id": "KBsW9BcLwLGT"
      },
      "source": [
        "# Data preprocess"
      ]
    },
    {
      "cell_type": "code",
      "metadata": {
        "id": "aw_nBVdPwMZf"
      },
      "source": [
        "# Data process\n",
        "x_train = x_train.astype('float32')\n",
        "x_test = x_test.astype('float32')\n",
        "x_train /= 255\n",
        "x_test /= 255\n",
        "\n",
        "x_train = torch.from_numpy(x_train)\n",
        "x_test = torch.from_numpy(x_test)\n",
        "\n",
        "y_train = torch.from_numpy(y_train)\n",
        "y_train = torch.flatten(y_train)\n",
        "\n",
        "# Data augmentation\n",
        "x_train_flipped = torch.flip(x_train, [2])\n",
        "x_train_noised = x_train + torch.randn_like(x_train) * 0.05\n",
        "x_train_flipped_noise = x_train + torch.randn_like(x_train_flipped) * 0.05\n",
        "x_train = torch.cat((x_train, x_train_flipped, x_train_noised,\n",
        "                     x_train_flipped_noise), 0)\n",
        "y_train = torch.cat((y_train, y_train, y_train, y_train))\n",
        "\n",
        "# Data reshape\n",
        "x_train = reshape(x_train)\n",
        "x_test = reshape(x_test)\n",
        "\n",
        "# Initial train data loader\n",
        "train_dataset = torch.utils.data.TensorDataset(x_train, y_train)\n",
        "trainloader = torch.utils.data.DataLoader(\n",
        "    train_dataset,\n",
        "    batch_size=batch_size,\n",
        "    shuffle=True,\n",
        "    num_workers=2\n",
        ")\n",
        "\n",
        "# Put x_test onto device\n",
        "x_test = x_test.to(device)"
      ],
      "execution_count": null,
      "outputs": []
    },
    {
      "cell_type": "code",
      "metadata": {
        "id": "HHIdOVYPfjx4",
        "colab": {
          "base_uri": "https://localhost:8080/",
          "height": 340
        },
        "outputId": "4750fbf3-23ed-4977-fa43-70737d005503"
      },
      "source": [
        "# Get some random training images to see if trainloader is correct\n",
        "dataiter = iter(trainloader)\n",
        "images, labels = dataiter.next()\n",
        "print(' '.join('%5s' % get_class_name(labels[j]) for j in range(batch_size)))\n",
        "print(images.shape)\n",
        "imshow(torchvision.utils.make_grid(images))\n"
      ],
      "execution_count": null,
      "outputs": [
        {
          "output_type": "stream",
          "text": [
            "Clipping input data to the valid range for imshow with RGB data ([0..1] for floats or [0..255] for integers).\n"
          ],
          "name": "stderr"
        },
        {
          "output_type": "stream",
          "text": [
            " frog airplane airplane   cat  bird truck  frog  ship  bird airplane airplane  ship  ship  ship  ship truck automobile airplane truck automobile   dog automobile  ship  frog  deer  bird  ship   dog  frog  frog airplane   cat airplane  bird horse automobile  ship  ship  frog  ship   dog   cat  ship  ship  frog airplane  bird  frog   cat  bird  ship   dog  bird  bird   dog truck   dog   cat automobile airplane truck   cat   cat  bird automobile truck  ship  ship automobile   dog  deer  deer horse   dog truck  deer  ship horse  bird   dog horse horse   cat  ship horse   cat  deer  ship automobile  frog  bird   dog  ship automobile automobile airplane   cat airplane  bird   dog   dog  bird  frog horse truck truck   cat  bird  deer airplane airplane truck horse  deer automobile automobile  bird airplane  deer   cat  ship  frog  deer  deer airplane automobile   dog horse\n",
            "torch.Size([128, 3, 32, 32])\n"
          ],
          "name": "stdout"
        },
        {
          "output_type": "display_data",
          "data": {
            "image/png": "[encoded data removed]",
            "text/plain": [
              "<Figure size 432x288 with 1 Axes>"
            ]
          },
          "metadata": {
            "tags": [],
            "needs_background": "light"
          }
        }
      ]
    },
    {
      "cell_type": "markdown",
      "metadata": {
        "id": "6-0y84TuxF1S"
      },
      "source": [
        "# Build model & training"
      ]
    },
    {
      "cell_type": "code",
      "metadata": {
        "id": "MAssExLnflUT"
      },
      "source": [
        "# Set training params\n",
        "from_epoch = 0\n",
        "to_epoch = 300\n",
        "save_per = 10\n",
        "learning_rate = 0.01  # 0.001\n",
        "momentum = 0.9  # 0.9\n",
        "net = ResNet(layer_cnts=[1, 1, 1, 1], class_cnt=10)\n"
      ],
      "execution_count": null,
      "outputs": []
    },
    {
      "cell_type": "code",
      "metadata": {
        "id": "OTkfZRKCfmlh",
        "colab": {
          "base_uri": "https://localhost:8080/"
        },
        "outputId": "594cc83d-5f97-43e0-c6c5-a86548825018"
      },
      "source": [
        "# Load checkpoint if necessary\n",
        "if from_epoch > 0:\n",
        "    PATH = f'{CKPT_DIR}/cifar_resnet_{from_epoch}.pth'\n",
        "    net.load_state_dict(torch.load(PATH))\n",
        "    print('Load checkpoint from', PATH)\n",
        "\n",
        "# Put network onto device\n",
        "net.to(device)\n",
        "\n",
        "# Set criterion and optimizer\n",
        "criterion = nn.CrossEntropyLoss()\n",
        "optimizer = optim.SGD(net.parameters(), lr=learning_rate, momentum=momentum)\n"
      ],
      "execution_count": null,
      "outputs": [
        {
          "output_type": "stream",
          "text": [
            "Load checkpoint from /content/drive/MyDrive/PR_hw5/checkpoints_tmp/cifar_resnet_10.pth\n"
          ],
          "name": "stdout"
        }
      ]
    },
    {
      "cell_type": "code",
      "metadata": {
        "id": "a-QkeVJAfn6Q"
      },
      "source": [
        "# Training\n",
        "print(f'Start training from epoch {from_epoch} to {to_epoch}')\n",
        "print(f'lr = {learning_rate}')\n",
        "\n",
        "for epoch in range(from_epoch, to_epoch):\n",
        "    running_loss = torch.tensor(0.0).to(device)\n",
        "\n",
        "    for i, data in enumerate(trainloader, 0):\n",
        "        # Put inputs and labels onto device\n",
        "        inputs, labels = data[0].to(device), data[1].to(device)\n",
        "\n",
        "        # Zero the parameter gradients\n",
        "        optimizer.zero_grad()\n",
        "\n",
        "        # Forward, backward, and optimize\n",
        "        outputs = net(inputs)\n",
        "        loss = criterion(outputs, labels)\n",
        "        loss.backward()\n",
        "        optimizer.step()\n",
        "        running_loss += loss\n",
        "\n",
        "    # Print statistics\n",
        "    print(f'Epoch {epoch + 1} loss: {running_loss / len(trainloader)}')\n",
        "    running_loss = torch.tensor(0.0).to(device)\n",
        "\n",
        "    if (epoch + 1) % save_per == 0:\n",
        "        # Save the checkpoint and test\n",
        "        PATH = f'{CKPT_DIR}/cifar_resnet_{epoch + 1}.pth'\n",
        "        torch.save(net.state_dict(), PATH)\n",
        "        y_pred = net.predict(x_test)\n",
        "        acc = accuracy_score(y_test, y_pred)\n",
        "        print(f'Epoch {epoch + 1} saved. Test data acc: {acc}')\n",
        "\n",
        "print('Finished Training')\n"
      ],
      "execution_count": null,
      "outputs": []
    },
    {
      "cell_type": "markdown",
      "metadata": {
        "id": "yqYJK-QnxIWD"
      },
      "source": [
        "# Testing"
      ]
    },
    {
      "cell_type": "code",
      "metadata": {
        "id": "-_i02DbvsniF"
      },
      "source": [
        "# Testing\n",
        "# Set testing params\n",
        "CKPT_DIR = '/content/drive/MyDrive/PR_hw5/checkpoints_RELEASE'\n",
        "checkpoint_name = 'cifar_resnet_1_1_1_1_RELEASE_8309'\n",
        "net = ResNet(layer_cnts=[1, 1, 1, 1], class_cnt=10)\n",
        "\n",
        "# Load the checkpoint\n",
        "PATH = f'{CKPT_DIR}/{checkpoint_name}.pth'\n",
        "net.load_state_dict(torch.load(PATH))\n",
        "print('Load checkpoint from', PATH)\n",
        "\n",
        "# Put the net onto device\n",
        "net.to(device)\n"
      ],
      "execution_count": null,
      "outputs": []
    },
    {
      "cell_type": "markdown",
      "metadata": {
        "id": "3GP-bhHxuTjw"
      },
      "source": [
        "# DO NOT MODIFY CODE BELOW!\n",
        "Please screen shot your results and post it on your report"
      ]
    },
    {
      "cell_type": "code",
      "metadata": {
        "id": "3om7aSC7fpoH"
      },
      "source": [
        "y_pred = net.predict(x_test)"
      ],
      "execution_count": null,
      "outputs": []
    },
    {
      "cell_type": "code",
      "metadata": {
        "id": "3C_Fx2K7B24C"
      },
      "source": [
        "assert y_pred.shape == (10000,)"
      ],
      "execution_count": null,
      "outputs": []
    },
    {
      "cell_type": "code",
      "metadata": {
        "id": "oX0SwbRuB49r",
        "colab": {
          "base_uri": "https://localhost:8080/"
        },
        "outputId": "dba9fd70-02b6-465f-c1cf-82252c1db6f7"
      },
      "source": [
        "y_test = np.load(\"y_test.npy\")\n",
        "print(\"Accuracy of my model on test set: \", accuracy_score(y_test, y_pred))"
      ],
      "execution_count": null,
      "outputs": [
        {
          "output_type": "stream",
          "text": [
            "Accuracy of my model on test set:  0.8309\n"
          ],
          "name": "stdout"
        }
      ]
    }
  ]
}